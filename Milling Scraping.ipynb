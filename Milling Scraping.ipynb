{
 "cells": [
  {
   "cell_type": "markdown",
   "id": "970d4aa2",
   "metadata": {},
   "source": [
    "## Objective:\n",
    "### Scrape product specifications from the webpage\n",
    "#### https://www.acemicromatic.net/product_cat/milling/"
   ]
  },
  {
   "cell_type": "code",
   "execution_count": 1,
   "id": "5f53e0f2",
   "metadata": {},
   "outputs": [
    {
     "name": "stdout",
     "output_type": "stream",
     "text": [
      "Requirement already satisfied: selenium in c:\\users\\maahi\\anaconda3\\lib\\site-packages (4.7.2)\n",
      "Requirement already satisfied: urllib3[socks]~=1.26 in c:\\users\\maahi\\anaconda3\\lib\\site-packages (from selenium) (1.26.9)\n",
      "Requirement already satisfied: trio~=0.17 in c:\\users\\maahi\\anaconda3\\lib\\site-packages (from selenium) (0.22.0)\n",
      "Requirement already satisfied: certifi>=2021.10.8 in c:\\users\\maahi\\anaconda3\\lib\\site-packages (from selenium) (2021.10.8)\n",
      "Requirement already satisfied: trio-websocket~=0.9 in c:\\users\\maahi\\anaconda3\\lib\\site-packages (from selenium) (0.9.2)\n",
      "Requirement already satisfied: async-generator>=1.9 in c:\\users\\maahi\\anaconda3\\lib\\site-packages (from trio~=0.17->selenium) (1.10)\n",
      "Requirement already satisfied: sniffio in c:\\users\\maahi\\anaconda3\\lib\\site-packages (from trio~=0.17->selenium) (1.2.0)\n",
      "Requirement already satisfied: sortedcontainers in c:\\users\\maahi\\anaconda3\\lib\\site-packages (from trio~=0.17->selenium) (2.4.0)\n",
      "Requirement already satisfied: outcome in c:\\users\\maahi\\anaconda3\\lib\\site-packages (from trio~=0.17->selenium) (1.2.0)\n",
      "Requirement already satisfied: exceptiongroup>=1.0.0rc9 in c:\\users\\maahi\\anaconda3\\lib\\site-packages (from trio~=0.17->selenium) (1.0.4)\n",
      "Requirement already satisfied: cffi>=1.14 in c:\\users\\maahi\\anaconda3\\lib\\site-packages (from trio~=0.17->selenium) (1.15.0)\n",
      "Requirement already satisfied: idna in c:\\users\\maahi\\anaconda3\\lib\\site-packages (from trio~=0.17->selenium) (3.3)\n",
      "Requirement already satisfied: attrs>=19.2.0 in c:\\users\\maahi\\anaconda3\\lib\\site-packages (from trio~=0.17->selenium) (21.4.0)\n",
      "Requirement already satisfied: pycparser in c:\\users\\maahi\\anaconda3\\lib\\site-packages (from cffi>=1.14->trio~=0.17->selenium) (2.21)\n",
      "Requirement already satisfied: wsproto>=0.14 in c:\\users\\maahi\\anaconda3\\lib\\site-packages (from trio-websocket~=0.9->selenium) (1.2.0)\n",
      "Requirement already satisfied: PySocks!=1.5.7,<2.0,>=1.5.6 in c:\\users\\maahi\\anaconda3\\lib\\site-packages (from urllib3[socks]~=1.26->selenium) (1.7.1)\n",
      "Requirement already satisfied: h11<1,>=0.9.0 in c:\\users\\maahi\\anaconda3\\lib\\site-packages (from wsproto>=0.14->trio-websocket~=0.9->selenium) (0.14.0)\n"
     ]
    }
   ],
   "source": [
    "#Installing Selenium\n",
    "!pip install selenium"
   ]
  },
  {
   "cell_type": "code",
   "execution_count": 2,
   "id": "19a19590",
   "metadata": {},
   "outputs": [
    {
     "name": "stdout",
     "output_type": "stream",
     "text": [
      "Requirement already satisfied: requests in c:\\users\\maahi\\anaconda3\\lib\\site-packages (2.27.1)\n",
      "Requirement already satisfied: urllib3<1.27,>=1.21.1 in c:\\users\\maahi\\anaconda3\\lib\\site-packages (from requests) (1.26.9)\n",
      "Requirement already satisfied: idna<4,>=2.5 in c:\\users\\maahi\\anaconda3\\lib\\site-packages (from requests) (3.3)\n",
      "Requirement already satisfied: certifi>=2017.4.17 in c:\\users\\maahi\\anaconda3\\lib\\site-packages (from requests) (2021.10.8)\n",
      "Requirement already satisfied: charset-normalizer~=2.0.0 in c:\\users\\maahi\\anaconda3\\lib\\site-packages (from requests) (2.0.4)\n"
     ]
    }
   ],
   "source": [
    "!pip install requests"
   ]
  },
  {
   "cell_type": "code",
   "execution_count": 3,
   "id": "c90cd3de",
   "metadata": {},
   "outputs": [],
   "source": [
    "#importing the required libraries\n",
    "import requests\n",
    "import selenium\n",
    "import pandas as pd\n",
    "import numpy as np\n",
    "from selenium import webdriver\n",
    "import warnings\n",
    "warnings.filterwarnings('ignore')\n",
    "from selenium.common.exceptions import StaleElementReferenceException,NoSuchElementException\n",
    "from selenium.webdriver.common.by import By\n",
    "import time"
   ]
  },
  {
   "cell_type": "code",
   "execution_count": 4,
   "id": "d890768d",
   "metadata": {},
   "outputs": [],
   "source": [
    "#Creating the driver\n",
    "driver=webdriver.Chrome(r\"C:\\Users\\maahi\\Downloads\\chromedriver-win64\\chromedriver-win64\\chromedriver.exe\")"
   ]
  },
  {
   "cell_type": "code",
   "execution_count": 5,
   "id": "50f65f9e",
   "metadata": {},
   "outputs": [],
   "source": [
    "#opening the desired page\n",
    "driver.maximize_window()\n",
    "driver.get(\"https://www.acemicromatic.net/product_cat/milling/\")\n",
    "time.sleep(3)"
   ]
  },
  {
   "cell_type": "code",
   "execution_count": 6,
   "id": "30992650",
   "metadata": {},
   "outputs": [],
   "source": [
    "#Finding all the categories under Milling for reference \n",
    "cat=driver.find_elements(By.XPATH,'//div[@class=\"content slide\"]/h4')"
   ]
  },
  {
   "cell_type": "code",
   "execution_count": 7,
   "id": "c9f59a72",
   "metadata": {},
   "outputs": [
    {
     "name": "stdout",
     "output_type": "stream",
     "text": [
      "Drill Tap Machining Centers\n",
      "Vertical Machining Centers\n",
      "Twin Spindle VMC\n",
      "5 Axes VMC Machines in India | AceMicromatic\n",
      "Special VMC\n",
      "Double Column\n",
      "Horizontal Machining Centers\n"
     ]
    }
   ],
   "source": [
    "for i in cat:\n",
    "    print(i.text)"
   ]
  },
  {
   "cell_type": "markdown",
   "id": "55179122",
   "metadata": {},
   "source": [
    "Obs: We found that there are 7 major ctaegories under milling machines"
   ]
  },
  {
   "cell_type": "code",
   "execution_count": 8,
   "id": "f997f03f",
   "metadata": {},
   "outputs": [],
   "source": [
    "# Finding urls of all the above categories to fetch its sub-categories\n",
    "url=[]\n",
    "try:\n",
    "    url_tag=driver.find_elements(By.XPATH,'//div[3][@class=\"button-wrapper\"]/a')\n",
    "    for i in url_tag:\n",
    "        url.append(i.get_attribute('href'))\n",
    "except NoSuchElementException:\n",
    "    name.append('-')"
   ]
  },
  {
   "cell_type": "code",
   "execution_count": 9,
   "id": "ee02ce1d",
   "metadata": {},
   "outputs": [
    {
     "data": {
      "text/plain": [
       "7"
      ]
     },
     "execution_count": 9,
     "metadata": {},
     "output_type": "execute_result"
    }
   ],
   "source": [
    "len(url)"
   ]
  },
  {
   "cell_type": "code",
   "execution_count": 10,
   "id": "175a9d69",
   "metadata": {},
   "outputs": [],
   "source": [
    "# Finding urls of all the subcategories to fetch the details of models\n",
    "cat_url=[]\n",
    "in_url=[]\n",
    "    \n",
    "for i in url:\n",
    "    driver.get(i)\n",
    "    time.sleep(3)\n",
    "  \n",
    "    in_url_tag=driver.find_elements(By.XPATH,'//div[3][@class=\"button-wrapper\"]/a') \n",
    "    for j in in_url_tag:         # For Vertical machine centre again there are mid-level categories and finding them in cat_url\n",
    "        if(\"aceproduct\" in j.get_attribute('href')):\n",
    "            in_url.append(j.get_attribute('href'))\n",
    "        else:\n",
    "            cat_url.append(j.get_attribute('href')) "
   ]
  },
  {
   "cell_type": "code",
   "execution_count": 11,
   "id": "501b3567",
   "metadata": {},
   "outputs": [
    {
     "data": {
      "text/plain": [
       "36"
      ]
     },
     "execution_count": 11,
     "metadata": {},
     "output_type": "execute_result"
    }
   ],
   "source": [
    "len(in_url)"
   ]
  },
  {
   "cell_type": "markdown",
   "id": "9375bb6e",
   "metadata": {},
   "source": [
    "Obs-Number of products under various categories is 36 (excluding Vertical machine centre)"
   ]
  },
  {
   "cell_type": "code",
   "execution_count": 12,
   "id": "e2c14b97",
   "metadata": {},
   "outputs": [
    {
     "data": {
      "text/plain": [
       "5"
      ]
     },
     "execution_count": 12,
     "metadata": {},
     "output_type": "execute_result"
    }
   ],
   "source": [
    "len(cat_url)"
   ]
  },
  {
   "cell_type": "markdown",
   "id": "e2c9a11c",
   "metadata": {},
   "source": [
    "Obs- The mid categories under Vertical machine centre are 5, finding final products under these further"
   ]
  },
  {
   "cell_type": "code",
   "execution_count": 13,
   "id": "4c60cc12",
   "metadata": {},
   "outputs": [],
   "source": [
    "# Finding links of all the sub-categories(products) under Mid-Category \n",
    "for k in cat_url:\n",
    "    driver.get(k)\n",
    "    time.sleep(3)\n",
    "  \n",
    "    inmost_tag=driver.find_elements(By.XPATH,'//div[3][@class=\"button-wrapper\"]/a')\n",
    "    for l in inmost_tag:\n",
    "        in_url.append(l.get_attribute('href'))   "
   ]
  },
  {
   "cell_type": "code",
   "execution_count": 17,
   "id": "4de3cdf9",
   "metadata": {},
   "outputs": [
    {
     "data": {
      "text/plain": [
       "69"
      ]
     },
     "execution_count": 17,
     "metadata": {},
     "output_type": "execute_result"
    }
   ],
   "source": [
    "# Finally finding the total count of all the products\n",
    "len(in_url)"
   ]
  },
  {
   "cell_type": "markdown",
   "id": "5e8c5a59",
   "metadata": {},
   "source": [
    "Obs- Thus a total of 69 products are available under Milling category"
   ]
  },
  {
   "cell_type": "code",
   "execution_count": 18,
   "id": "805fd08b",
   "metadata": {},
   "outputs": [],
   "source": [
    "# Creating the attribute fields to be fetched\n",
    "para1=[]\n",
    "para2=[]\n",
    "model=[]\n",
    "dim=[]\n",
    "x_travel=[]\n",
    "y_travel=[]\n",
    "z_travel=[]\n",
    "\n",
    "for links in in_url:\n",
    "    driver.get(links+\"#spec-1\")  # Because of no-elememt exception & absence of scroll-event, taking the page to \"spec-1\" position of webpage (till the description table)\n",
    "    time.sleep(3)\n",
    "    \n",
    "    para1.append(\"Milling\")\n",
    "    \n",
    "    # fetching category of the Product\n",
    "    try:\n",
    "        para2_tag=driver.find_element(By.XPATH,'//span[@class=\"type\"]')\n",
    "        para2.append(para2_tag.text)\n",
    "    except NoSuchElementException:\n",
    "        para2.append('-')\n",
    " \n",
    "    # fetching model of the Product\n",
    "    try:\n",
    "        model_tag = driver.find_element(By.XPATH,'/html/body/section[2]/div[1]/div/div/div[2]/h3')\n",
    "        model.append(model_tag.text)\n",
    "    except NoSuchElementException:\n",
    "        model.append('-')\n",
    "\n",
    "    # clickingmachine capacity option\n",
    "    try:\n",
    "        mac_tag=driver.find_element(By.XPATH,'//tr[@class=\"click_row click_2\"]')\n",
    "        mac_tag.click()\n",
    "    except NoSuchElementException:\n",
    "        pass\n",
    "   \n",
    "    #fetching x/y/z dim of the product\n",
    "    try:\n",
    "        dim_tag = driver.find_element(By.XPATH,'//tr[@class=\"hide_row hide_2 show_row\"]/td[3]')\n",
    "        if('/' in dim_tag.text):\n",
    "            x_travel.append(dim_tag.text.split('/')[0])\n",
    "            y_travel.append(dim_tag.text.split('/')[1])\n",
    "            z_travel.append(dim_tag.text.split('/')[2])\n",
    "        else:\n",
    "            dim_tag1 = driver.find_element(By.XPATH,'//tbody[@class=\"default-hide click-head show_row_no show_row\"]/tr[6]/td[3]')\n",
    "            x_travel.append(dim_tag1.text)\n",
    "            dim_tag2 = driver.find_element(By.XPATH,'//tbody[@class=\"default-hide click-head show_row_no show_row\"]/tr[7]/td[3]')\n",
    "            y_travel.append(dim_tag2.text)\n",
    "            dim_tag3 = driver.find_element(By.XPATH,'//tbody[@class=\"default-hide click-head show_row_no show_row\"]/tr[8]/td[3]')\n",
    "            z_travel.append(dim_tag3.text)\n",
    "            \n",
    "    except NoSuchElementException:\n",
    "        x_travel.append('')\n",
    "        y_travel.append('')\n",
    "        z_travel.append('')       "
   ]
  },
  {
   "cell_type": "code",
   "execution_count": 19,
   "id": "ffe38c5f",
   "metadata": {},
   "outputs": [
    {
     "name": "stdout",
     "output_type": "stream",
     "text": [
      "69 69 69 69 69 69\n"
     ]
    }
   ],
   "source": [
    "# Finding length of all the attributes fetched\n",
    "print(len(para1),len(para2),len(model),len(x_travel),len(y_travel),len(z_travel))"
   ]
  },
  {
   "cell_type": "code",
   "execution_count": 20,
   "id": "1e5dea23",
   "metadata": {},
   "outputs": [
    {
     "name": "stdout",
     "output_type": "stream",
     "text": [
      "List of all Products under Milling Category\n"
     ]
    },
    {
     "data": {
      "text/html": [
       "<div>\n",
       "<style scoped>\n",
       "    .dataframe tbody tr th:only-of-type {\n",
       "        vertical-align: middle;\n",
       "    }\n",
       "\n",
       "    .dataframe tbody tr th {\n",
       "        vertical-align: top;\n",
       "    }\n",
       "\n",
       "    .dataframe thead th {\n",
       "        text-align: right;\n",
       "    }\n",
       "</style>\n",
       "<table border=\"1\" class=\"dataframe\">\n",
       "  <thead>\n",
       "    <tr style=\"text-align: right;\">\n",
       "      <th></th>\n",
       "      <th>Category(param_1)</th>\n",
       "      <th>Product(param_2)</th>\n",
       "      <th>Model_Name</th>\n",
       "      <th>X_travel</th>\n",
       "      <th>Y_travel</th>\n",
       "      <th>Z_travel</th>\n",
       "    </tr>\n",
       "  </thead>\n",
       "  <tbody>\n",
       "    <tr>\n",
       "      <th>0</th>\n",
       "      <td>Milling</td>\n",
       "      <td>Drill Tap Machining Centers</td>\n",
       "      <td>SPARK</td>\n",
       "      <td>300</td>\n",
       "      <td>250</td>\n",
       "      <td>250</td>\n",
       "    </tr>\n",
       "    <tr>\n",
       "      <th>1</th>\n",
       "      <td>Milling</td>\n",
       "      <td>Drill Tap Machining Centers</td>\n",
       "      <td>SPARK XL</td>\n",
       "      <td>400</td>\n",
       "      <td>300</td>\n",
       "      <td>250</td>\n",
       "    </tr>\n",
       "    <tr>\n",
       "      <th>2</th>\n",
       "      <td>Milling</td>\n",
       "      <td>Drill Tap Machining Centers</td>\n",
       "      <td>DTC-400</td>\n",
       "      <td>500</td>\n",
       "      <td>400</td>\n",
       "      <td>320</td>\n",
       "    </tr>\n",
       "    <tr>\n",
       "      <th>3</th>\n",
       "      <td>Milling</td>\n",
       "      <td>Drill Tap Machining Centers</td>\n",
       "      <td>DTC-400 XL</td>\n",
       "      <td>500</td>\n",
       "      <td>400</td>\n",
       "      <td>320</td>\n",
       "    </tr>\n",
       "    <tr>\n",
       "      <th>4</th>\n",
       "      <td>Milling</td>\n",
       "      <td>Drill Tap Machining Centers</td>\n",
       "      <td>DTC-400L XL</td>\n",
       "      <td>700</td>\n",
       "      <td>400</td>\n",
       "      <td>320</td>\n",
       "    </tr>\n",
       "    <tr>\n",
       "      <th>...</th>\n",
       "      <td>...</td>\n",
       "      <td>...</td>\n",
       "      <td>...</td>\n",
       "      <td>...</td>\n",
       "      <td>...</td>\n",
       "      <td>...</td>\n",
       "    </tr>\n",
       "    <tr>\n",
       "      <th>64</th>\n",
       "      <td>Milling</td>\n",
       "      <td>Heavy Duty</td>\n",
       "      <td>MCV-650-50</td>\n",
       "      <td>1020</td>\n",
       "      <td>650</td>\n",
       "      <td>600</td>\n",
       "    </tr>\n",
       "    <tr>\n",
       "      <th>65</th>\n",
       "      <td>Milling</td>\n",
       "      <td>Heavy Duty</td>\n",
       "      <td>MCV-700N-50</td>\n",
       "      <td>1250</td>\n",
       "      <td>700</td>\n",
       "      <td>600</td>\n",
       "    </tr>\n",
       "    <tr>\n",
       "      <th>66</th>\n",
       "      <td>Milling</td>\n",
       "      <td>Heavy Duty</td>\n",
       "      <td>MCV-700N L-50</td>\n",
       "      <td>1500</td>\n",
       "      <td>700</td>\n",
       "      <td>600</td>\n",
       "    </tr>\n",
       "    <tr>\n",
       "      <th>67</th>\n",
       "      <td>Milling</td>\n",
       "      <td>Heavy Duty</td>\n",
       "      <td>MCV-700-50</td>\n",
       "      <td>1500</td>\n",
       "      <td>700</td>\n",
       "      <td>700</td>\n",
       "    </tr>\n",
       "    <tr>\n",
       "      <th>68</th>\n",
       "      <td>Milling</td>\n",
       "      <td>Heavy Duty</td>\n",
       "      <td>MCV-800-50</td>\n",
       "      <td>2000</td>\n",
       "      <td>810</td>\n",
       "      <td>810</td>\n",
       "    </tr>\n",
       "  </tbody>\n",
       "</table>\n",
       "<p>69 rows × 6 columns</p>\n",
       "</div>"
      ],
      "text/plain": [
       "   Category(param_1)             Product(param_2)     Model_Name X_travel  \\\n",
       "0            Milling  Drill Tap Machining Centers          SPARK     300    \n",
       "1            Milling  Drill Tap Machining Centers       SPARK XL     400    \n",
       "2            Milling  Drill Tap Machining Centers        DTC-400     500    \n",
       "3            Milling  Drill Tap Machining Centers     DTC-400 XL     500    \n",
       "4            Milling  Drill Tap Machining Centers    DTC-400L XL     700    \n",
       "..               ...                          ...            ...      ...   \n",
       "64           Milling                   Heavy Duty     MCV-650-50    1020    \n",
       "65           Milling                   Heavy Duty    MCV-700N-50    1250    \n",
       "66           Milling                   Heavy Duty  MCV-700N L-50    1500    \n",
       "67           Milling                   Heavy Duty     MCV-700-50    1500    \n",
       "68           Milling                   Heavy Duty     MCV-800-50    2000    \n",
       "\n",
       "   Y_travel Z_travel  \n",
       "0      250       250  \n",
       "1      300       250  \n",
       "2      400       320  \n",
       "3      400       320  \n",
       "4      400       320  \n",
       "..      ...      ...  \n",
       "64     650       600  \n",
       "65     700       600  \n",
       "66     700       600  \n",
       "67     700       700  \n",
       "68     810       810  \n",
       "\n",
       "[69 rows x 6 columns]"
      ]
     },
     "execution_count": 20,
     "metadata": {},
     "output_type": "execute_result"
    }
   ],
   "source": [
    "#Creating the Data Frame as per the requirement\n",
    "df_milling=pd.DataFrame({'Category(param_1)':para1,'Product(param_2)':para2,'Model_Name':model,'X_travel':x_travel,'Y_travel':y_travel,'Z_travel':z_travel})\n",
    "print(\"List of all Products under Milling Category\")\n",
    "df_milling"
   ]
  },
  {
   "cell_type": "code",
   "execution_count": 22,
   "id": "556a081d",
   "metadata": {},
   "outputs": [],
   "source": [
    "#Creating the csv file for the above table"
   ]
  },
  {
   "cell_type": "code",
   "execution_count": 21,
   "id": "b4a692ff",
   "metadata": {},
   "outputs": [],
   "source": [
    "df_milling.to_csv(\"milling.csv\",index=False)"
   ]
  },
  {
   "cell_type": "code",
   "execution_count": null,
   "id": "a3164a3f",
   "metadata": {},
   "outputs": [],
   "source": []
  }
 ],
 "metadata": {
  "kernelspec": {
   "display_name": "Python 3 (ipykernel)",
   "language": "python",
   "name": "python3"
  },
  "language_info": {
   "codemirror_mode": {
    "name": "ipython",
    "version": 3
   },
   "file_extension": ".py",
   "mimetype": "text/x-python",
   "name": "python",
   "nbconvert_exporter": "python",
   "pygments_lexer": "ipython3",
   "version": "3.9.12"
  }
 },
 "nbformat": 4,
 "nbformat_minor": 5
}
